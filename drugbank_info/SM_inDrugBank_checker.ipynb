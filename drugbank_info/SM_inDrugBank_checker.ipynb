{
 "cells": [
  {
   "cell_type": "code",
   "execution_count": 23,
   "metadata": {},
   "outputs": [],
   "source": [
    "import polars as pl\n",
    "import numpy as np\n",
    "import pandas as pd"
   ]
  },
  {
   "cell_type": "code",
   "execution_count": 25,
   "metadata": {},
   "outputs": [
    {
     "name": "stdout",
     "output_type": "stream",
     "text": [
      "Number of rows: 82\n",
      "Number of columns: 5\n",
      "<class 'pandas.core.frame.DataFrame'>\n"
     ]
    }
   ],
   "source": [
    "#read csv\n",
    "compounds =  pd.read_csv('144 compounds.csv')\n",
    "compounds_list = compounds['Column1'].tolist()\n",
    "\n",
    "drugbank = pd.read_csv('drugbankConcise.csv')\n",
    "db_list = drugbank['name'].tolist()\n",
    "\n",
    "#check whether compound in db \n",
    "compounds['in_db'] =  compounds['Column1'].apply(lambda x: x in db_list) \n",
    "compounds.to_csv('updated_data.csv', index=False)\n",
    "\n",
    "#filter for compound in list\n",
    "filtered_db = drugbank[drugbank['name'].isin(compounds_list)]\n",
    "\n",
    "rows, columns = filtered_db.shape\n",
    "\n",
    "print(f\"Number of rows: {rows}\")\n",
    "print(f\"Number of columns: {columns}\")\n",
    "print(type(filtered_db))\n",
    "\n",
    "filtered_db.to_csv('144_compounds_updated', index=False)\n"
   ]
  },
  {
   "cell_type": "code",
   "execution_count": null,
   "metadata": {},
   "outputs": [
    {
     "name": "stdout",
     "output_type": "stream",
     "text": [
      "0         Bivalirudin\n",
      "1          Leuprolide\n",
      "2           Goserelin\n",
      "3        Gramicidin D\n",
      "4        Desmopressin\n",
      "             ...     \n",
      "12222         AUM-601\n",
      "12223         FN-1501\n",
      "12224    Tinengotinib\n",
      "12225       Lipotecan\n",
      "12226    Xenon Xe-129\n",
      "Name: name, Length: 12227, dtype: object\n",
      "0        Tacalcitol\n",
      "1       Penfluridol\n",
      "2           AVL-292\n",
      "3           HMN-214\n",
      "4        Canertinib\n",
      "           ...     \n",
      "142    Pomalidomide\n",
      "143        AZD-8330\n",
      "144     Quizartinib\n",
      "145          CC-401\n",
      "146         CGM-097\n",
      "Name: Column1, Length: 147, dtype: object\n"
     ]
    }
   ],
   "source": [
    "print(drugbank['name'])\n",
    "print(compounds['Column1'])"
   ]
  }
 ],
 "metadata": {
  "kernelspec": {
   "display_name": "Python 3",
   "language": "python",
   "name": "python3"
  },
  "language_info": {
   "codemirror_mode": {
    "name": "ipython",
    "version": 3
   },
   "file_extension": ".py",
   "mimetype": "text/x-python",
   "name": "python",
   "nbconvert_exporter": "python",
   "pygments_lexer": "ipython3",
   "version": "3.9.9"
  }
 },
 "nbformat": 4,
 "nbformat_minor": 2
}
