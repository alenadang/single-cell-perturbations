{
 "cells": [
  {
   "cell_type": "markdown",
   "metadata": {},
   "source": [
    "# model 5 (500)\n",
    "one-hot encoded cell_type + top 500 variance Transformer_CNN_BindingDB affinities"
   ]
  },
  {
   "cell_type": "code",
   "execution_count": 1,
   "metadata": {},
   "outputs": [],
   "source": [
    "import polars as pl\n",
    "import numpy as np\n",
    "import pandas as pd\n",
    "\n",
    "import tensorflow as tf\n",
    "\n",
    "import matplotlib.pyplot as plt\n",
    "import seaborn as sns\n",
    "\n",
    "from sklearn.model_selection import train_test_split\n",
    "from sklearn.preprocessing import OneHotEncoder\n",
    "\n",
    "# import from the auxFunctions.py file\n",
    "from auxFunctions import calculate_mae_and_mrrmse, mean_rowwise_rmse_loss, custom_mean_rowwise_rmse, create_model_checkpoint, plot_training_history"
   ]
  },
  {
   "cell_type": "markdown",
   "metadata": {},
   "source": [
    "## pre-process data\n",
    "one-hot encode cell type\n",
    "<br>map sm_name to affinities500_Transformer_CNN_BindingDB.csv"
   ]
  },
  {
   "cell_type": "code",
   "execution_count": 2,
   "metadata": {},
   "outputs": [],
   "source": [
    "de_train = pl.scan_parquet('./kaggledata/de_train.parquet')\n",
    "de_train_df = de_train.collect().to_pandas()\n",
    "\n",
    "# test provided by kaggle --> upload predictions to kaggle to get the score\n",
    "id_map = pd.read_csv('./kaggledata/id_map.csv')\n",
    "\n",
    "affinities = pd.read_csv('affinities500_Transformer_CNN_BindingDB.csv', index_col=0)"
   ]
  },
  {
   "cell_type": "markdown",
   "metadata": {},
   "source": [
    "train dataset provided by kaggle\n",
    "- will be split into train/test/validation for internal testing before model is trained on the entire train and used to predict on the test in id_map"
   ]
  },
  {
   "cell_type": "code",
   "execution_count": 3,
   "metadata": {},
   "outputs": [],
   "source": [
    "def extractAffinities(sm_names, affinities):\n",
    "    \"\"\"\n",
    "    Function to extract affinities from the affinities dataframe\n",
    "\n",
    "    Parameters:\n",
    "    - sm_names: List/Array of sm_names\n",
    "    - affinities: Stored affinities predicted using DeepPurpose\n",
    "\n",
    "    Returns:\n",
    "    - Affinities as a numpy array\n",
    "    \"\"\"\n",
    "    encoded_affinities = []\n",
    "    for name in sm_names:\n",
    "        filtered = affinities[affinities['sm_name'] == name]\n",
    "        sm_affinities = filtered.iloc[:, 2:].values[0]\n",
    "        encoded_affinities.append(sm_affinities)\n",
    "\n",
    "    np_encoded_affinities = np.array(encoded_affinities)\n",
    "\n",
    "    return np_encoded_affinities"
   ]
  },
  {
   "cell_type": "code",
   "execution_count": 4,
   "metadata": {},
   "outputs": [],
   "source": [
    "# one-hot encode cell_type\n",
    "cell_type = de_train_df['cell_type'].to_numpy().reshape(-1, 1)\n",
    "encoder = OneHotEncoder()\n",
    "encoder.fit(cell_type)\n",
    "# of type scipy.sparse._csr.csr_matrix\n",
    "encoded_cell_type = encoder.transform(cell_type)\n",
    "\n",
    "# map sm_name to affinities\n",
    "sm_name = de_train_df['sm_name']\n",
    "\n",
    "# has shape (614, 500), of type numpy.ndarray\n",
    "np_encoded_affinities = extractAffinities(sm_name, affinities)\n",
    "\n",
    "# concatenate encoded_cell_type and np_encoded_affinities\n",
    "# final shape (614, 506)\n",
    "encoded_features = np.hstack((encoded_cell_type.toarray(), np_encoded_affinities))\n",
    "\n",
    "# wanted output\n",
    "genes_lfc = de_train_df.drop(columns=['cell_type', 'sm_name', 'sm_lincs_id', 'SMILES', 'control'])"
   ]
  },
  {
   "cell_type": "code",
   "execution_count": 5,
   "metadata": {},
   "outputs": [],
   "source": [
    "# repeat for kaggle test set\n",
    "kaggle_cell_type = id_map['cell_type'].to_numpy().reshape(-1, 1)\n",
    "encoded_kaggle_cell_type = encoder.transform(kaggle_cell_type)\n",
    "\n",
    "kaggle_sm_name = id_map['sm_name']\n",
    "encoded_kaggle_affinities = extractAffinities(kaggle_sm_name, affinities)\n",
    "\n",
    "# final shape (255, 506)\n",
    "encoded_kaggle_features = np.hstack((encoded_kaggle_cell_type.toarray(), encoded_kaggle_affinities))"
   ]
  },
  {
   "cell_type": "code",
   "execution_count": 6,
   "metadata": {},
   "outputs": [],
   "source": [
    "# Split the data into 70% training, 15% validation, and 15% testing\n",
    "X_train, X_temp, y_train, y_temp = train_test_split(encoded_features, genes_lfc.values, test_size=0.3, shuffle=False)\n",
    "X_val, X_test, y_val, y_test = train_test_split(X_temp, y_temp, test_size=0.5, shuffle=False)\n",
    "\n",
    "# used for final training before predicting on kaggle_test\n",
    "full_features = encoded_features\n",
    "full_labels = genes_lfc.values"
   ]
  },
  {
   "cell_type": "markdown",
   "metadata": {},
   "source": [
    "## model training"
   ]
  },
  {
   "cell_type": "code",
   "execution_count": 7,
   "metadata": {},
   "outputs": [],
   "source": [
    "from tensorflow.keras.layers import Dense, Dropout, BatchNormalization, Activation\n",
    "from tensorflow.keras.models import Sequential"
   ]
  },
  {
   "cell_type": "code",
   "execution_count": 17,
   "metadata": {},
   "outputs": [
    {
     "name": "stdout",
     "output_type": "stream",
     "text": [
      "Epoch 1/10\n",
      "14/14 [==============================] - 9s 512ms/step - loss: 1.4362 - custom_mean_rowwise_rmse: 1.4346 - val_loss: 0.8925 - val_custom_mean_rowwise_rmse: 0.8909\n",
      "Epoch 2/10\n",
      "14/14 [==============================] - 7s 481ms/step - loss: 1.4195 - custom_mean_rowwise_rmse: 1.4289 - val_loss: 0.8893 - val_custom_mean_rowwise_rmse: 0.8873\n",
      "Epoch 3/10\n",
      "14/14 [==============================] - 7s 474ms/step - loss: 1.4214 - custom_mean_rowwise_rmse: 1.3975 - val_loss: 0.8823 - val_custom_mean_rowwise_rmse: 0.8805\n",
      "Epoch 4/10\n",
      "14/14 [==============================] - 6s 465ms/step - loss: 1.4167 - custom_mean_rowwise_rmse: 1.4306 - val_loss: 0.8725 - val_custom_mean_rowwise_rmse: 0.8706\n",
      "Epoch 5/10\n",
      "14/14 [==============================] - 6s 400ms/step - loss: 1.4102 - custom_mean_rowwise_rmse: 1.4473 - val_loss: 0.8791 - val_custom_mean_rowwise_rmse: 0.8769\n",
      "Epoch 6/10\n",
      "14/14 [==============================] - 6s 463ms/step - loss: 1.4093 - custom_mean_rowwise_rmse: 1.3857 - val_loss: 0.8700 - val_custom_mean_rowwise_rmse: 0.8680\n",
      "Epoch 7/10\n",
      "14/14 [==============================] - 5s 379ms/step - loss: 1.4176 - custom_mean_rowwise_rmse: 1.3993 - val_loss: 0.8855 - val_custom_mean_rowwise_rmse: 0.8833\n",
      "Epoch 8/10\n",
      "14/14 [==============================] - 5s 366ms/step - loss: 1.4156 - custom_mean_rowwise_rmse: 1.4296 - val_loss: 0.8780 - val_custom_mean_rowwise_rmse: 0.8761\n",
      "Epoch 9/10\n",
      "14/14 [==============================] - 5s 350ms/step - loss: 1.4134 - custom_mean_rowwise_rmse: 1.3881 - val_loss: 0.8824 - val_custom_mean_rowwise_rmse: 0.8800\n",
      "Epoch 10/10\n",
      "14/14 [==============================] - 5s 341ms/step - loss: 1.4088 - custom_mean_rowwise_rmse: 1.4533 - val_loss: 0.9028 - val_custom_mean_rowwise_rmse: 0.9013\n"
     ]
    }
   ],
   "source": [
    "tf.random.set_seed(42)\n",
    "\n",
    "model_5_500 = Sequential([\n",
    "        Dense(3400, activation=\"tanh\"),\n",
    "        Dense(3000, activation=\"tanh\"),\n",
    "        Dense(2100, activation=\"tanh\"),\n",
    "        Dense(200, activation=\"tanh\"),\n",
    "        Dense(200, activation=\"tanh\"),\n",
    "        Dropout(0.25),\n",
    "        Dense(18211, activation=\"linear\")\n",
    "    ])\n",
    "\n",
    "model_5_500.compile(loss=mean_rowwise_rmse_loss, \n",
    "                optimizer=tf.keras.optimizers.Adam(learning_rate=0.01),\n",
    "                metrics=[custom_mean_rowwise_rmse])\n",
    "\n",
    "history_5_500 = model_5_500.fit(X_train, y_train,\n",
    "                       epochs=10,\n",
    "                       validation_data=(X_val,y_val),\n",
    "                       batch_size=32,\n",
    "                       callbacks=[create_model_checkpoint(\"model_2\", monitor=\"val_custom_mean_rowwise_rmse\")])"
   ]
  },
  {
   "cell_type": "markdown",
   "metadata": {},
   "source": [
    "### evaluate model"
   ]
  },
  {
   "cell_type": "code",
   "execution_count": 18,
   "metadata": {},
   "outputs": [
    {
     "name": "stdout",
     "output_type": "stream",
     "text": [
      "93/93 [==============================] - 1s 10ms/step\n",
      "Mean Absolute Error (MAE): 0.8941087559637675\n",
      "Mean Rowwise Root Mean Squared Error (MRRMSE): 1.3611565303529023\n"
     ]
    }
   ],
   "source": [
    "calculate_mae_and_mrrmse(model=model_5_500, data=X_test, y_true=y_test)"
   ]
  },
  {
   "cell_type": "code",
   "execution_count": 19,
   "metadata": {},
   "outputs": [
    {
     "data": {
      "image/png": "[encoded data removed]",
      "text/plain": [
       "<Figure size 1200x600 with 2 Axes>"
      ]
     },
     "metadata": {},
     "output_type": "display_data"
    }
   ],
   "source": [
    "plot_training_history(history_5_500, metrics=[\"custom_mean_rowwise_rmse\"])"
   ]
  },
  {
   "cell_type": "markdown",
   "metadata": {},
   "source": [
    "# predict on full kaggle set"
   ]
  },
  {
   "cell_type": "code",
   "execution_count": 30,
   "metadata": {},
   "outputs": [
    {
     "name": "stdout",
     "output_type": "stream",
     "text": [
      "Epoch 1/10\n",
      "20/20 [==============================] - 11s 384ms/step - loss: 0.9052 - custom_mean_rowwise_rmse: 1.3309\n",
      "Epoch 2/10\n",
      "20/20 [==============================] - 7s 356ms/step - loss: 0.9027 - custom_mean_rowwise_rmse: 1.3136\n",
      "Epoch 3/10\n",
      "20/20 [==============================] - 7s 370ms/step - loss: 0.9030 - custom_mean_rowwise_rmse: 1.3060\n",
      "Epoch 4/10\n",
      "20/20 [==============================] - 7s 362ms/step - loss: 0.9022 - custom_mean_rowwise_rmse: 1.3069\n",
      "Epoch 5/10\n",
      "20/20 [==============================] - 7s 368ms/step - loss: 0.9026 - custom_mean_rowwise_rmse: 1.3445\n",
      "Epoch 6/10\n",
      "20/20 [==============================] - 7s 368ms/step - loss: 0.9137 - custom_mean_rowwise_rmse: 1.3483\n",
      "Epoch 7/10\n",
      "20/20 [==============================] - 7s 326ms/step - loss: 0.9153 - custom_mean_rowwise_rmse: 1.3169\n",
      "Epoch 8/10\n",
      "20/20 [==============================] - 7s 366ms/step - loss: 0.9075 - custom_mean_rowwise_rmse: 1.3133\n",
      "Epoch 9/10\n",
      "20/20 [==============================] - 7s 325ms/step - loss: 0.9038 - custom_mean_rowwise_rmse: 1.3489\n",
      "Epoch 10/10\n",
      "20/20 [==============================] - 7s 350ms/step - loss: 0.9012 - custom_mean_rowwise_rmse: 1.3021\n"
     ]
    }
   ],
   "source": [
    "tf.random.set_seed(42)\n",
    "\n",
    "model_5_500_full = Sequential([\n",
    "        Dense(3400, activation=\"tanh\"),\n",
    "        Dense(3000, activation=\"tanh\"),\n",
    "        Dense(2100, activation=\"tanh\"),\n",
    "        Dense(200, activation=\"tanh\"),\n",
    "        Dense(200, activation=\"tanh\"),\n",
    "        Dropout(0.25),\n",
    "        Dense(18211, activation=\"linear\")\n",
    "    ])\n",
    "\n",
    "model_5_500_full.compile(loss=\"mae\", \n",
    "                optimizer=tf.keras.optimizers.Adam(0.01),\n",
    "                metrics=[custom_mean_rowwise_rmse])\n",
    "\n",
    "history_5_500_full = model_5_500_full.fit(full_features, full_labels,\n",
    "                       epochs=10,\n",
    "                       batch_size=32)"
   ]
  },
  {
   "cell_type": "code",
   "execution_count": 27,
   "metadata": {},
   "outputs": [
    {
     "name": "stdout",
     "output_type": "stream",
     "text": [
      "255/255 [==============================] - 2s 6ms/step\n"
     ]
    }
   ],
   "source": [
    "kaggle_predictions = model_5_500_full.predict(encoded_kaggle_features, batch_size=1)"
   ]
  },
  {
   "cell_type": "code",
   "execution_count": 28,
   "metadata": {},
   "outputs": [],
   "source": [
    "sample_submission = pd.read_csv('./kaggledata/sample_submission.csv')\n",
    "sample_submission.iloc[:,1:] = kaggle_predictions\n",
    "\n",
    "sample_submission.to_csv('submission_model_5_500.csv', index=False)"
   ]
  }
 ],
 "metadata": {
  "kernelspec": {
   "display_name": "base",
   "language": "python",
   "name": "python3"
  },
  "language_info": {
   "codemirror_mode": {
    "name": "ipython",
    "version": 3
   },
   "file_extension": ".py",
   "mimetype": "text/x-python",
   "name": "python",
   "nbconvert_exporter": "python",
   "pygments_lexer": "ipython3",
   "version": "3.11.5"
  }
 },
 "nbformat": 4,
 "nbformat_minor": 2
}
