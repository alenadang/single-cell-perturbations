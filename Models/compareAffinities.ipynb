{
 "cells": [
  {
   "cell_type": "code",
   "execution_count": 7,
   "metadata": {},
   "outputs": [],
   "source": [
    "import polars as pl\n",
    "import numpy as np\n",
    "import pandas as pd\n",
    "\n",
    "import tensorflow as tf\n",
    "\n",
    "import matplotlib.pyplot as plt\n",
    "import seaborn as sns\n",
    "\n",
    "from sklearn.model_selection import train_test_split\n",
    "from sklearn.preprocessing import OneHotEncoder\n",
    "\n",
    "# import from the auxFunctions.py file\n",
    "from auxFunctions import calculate_mae_and_mrrmse, mean_rowwise_rmse_loss, custom_mean_rowwise_rmse, create_model_checkpoint, plot_training_history"
   ]
  },
  {
   "cell_type": "markdown",
   "metadata": {},
   "source": [
    "## load in train data"
   ]
  },
  {
   "cell_type": "code",
   "execution_count": 8,
   "metadata": {},
   "outputs": [],
   "source": [
    "de_train = pl.scan_parquet('./kaggledata/de_train.parquet')\n",
    "de_train_df = de_train.collect().to_pandas()"
   ]
  },
  {
   "cell_type": "markdown",
   "metadata": {},
   "source": [
    "## define function to output test score for each model"
   ]
  },
  {
   "cell_type": "code",
   "execution_count": 14,
   "metadata": {},
   "outputs": [],
   "source": [
    "def extractAffinities(sm_names, affinities):\n",
    "    \"\"\"\n",
    "    Function to extract affinities from the affinities dataframe\n",
    "\n",
    "    Parameters:\n",
    "    - sm_names: List/Array of sm_names\n",
    "    - affinities: Stored affinities predicted using DeepPurpose\n",
    "\n",
    "    Returns:\n",
    "    - Affinities as a numpy array\n",
    "    \"\"\"\n",
    "    encoded_affinities = []\n",
    "    for name in sm_names:\n",
    "        filtered = affinities[affinities['sm_name'] == name]\n",
    "        sm_affinities = filtered.iloc[:, 2:].values[0]\n",
    "        encoded_affinities.append(sm_affinities)\n",
    "\n",
    "    np_encoded_affinities = np.array(encoded_affinities)\n",
    "\n",
    "    return np_encoded_affinities"
   ]
  },
  {
   "cell_type": "code",
   "execution_count": 17,
   "metadata": {},
   "outputs": [],
   "source": [
    "from tensorflow.keras.layers import Dense, Dropout, BatchNormalization, Activation\n",
    "from tensorflow.keras.models import Sequential\n",
    "\n",
    "# basically entire code in the other model notebooks\n",
    "def testModel(affinityFileName):\n",
    "    print(f'Testing: {affinityFileName}')\n",
    "    filename = f'./affinities/{affinityFileName}'\n",
    "    affinities =pd.read_csv(filename, index_col=0)\n",
    "    \n",
    "    cell_type = de_train_df['cell_type'].to_numpy().reshape(-1, 1)\n",
    "    encoder = OneHotEncoder()\n",
    "    encoder.fit(cell_type)\n",
    "    encoded_cell_type = encoder.transform(cell_type)\n",
    "\n",
    "    sm_name = de_train_df['sm_name']\n",
    "    np_encoded_affinities = extractAffinities(sm_name, affinities)\n",
    "\n",
    "    encoded_features = np.hstack((encoded_cell_type.toarray(), np_encoded_affinities))\n",
    "    genes_lfc = de_train_df.drop(columns=['cell_type', 'sm_name', 'sm_lincs_id', 'SMILES', 'control'])\n",
    "\n",
    "    # Split the data into 70% training, 15% validation, and 15% testing\n",
    "    X_train, X_temp, y_train, y_temp = train_test_split(encoded_features, genes_lfc.values, test_size=0.3, shuffle=False)\n",
    "    X_val, X_test, y_val, y_test = train_test_split(X_temp, y_temp, test_size=0.5, shuffle=False)\n",
    "    \n",
    "    tf.random.set_seed(42)\n",
    "\n",
    "    model = Sequential([\n",
    "        Dense(3400, activation=\"tanh\"),\n",
    "        Dense(3000, activation=\"tanh\"),\n",
    "        Dense(2100, activation=\"tanh\"),\n",
    "        Dense(200, activation=\"tanh\"),\n",
    "        Dense(200, activation=\"tanh\"),\n",
    "        Dropout(0.25),\n",
    "        Dense(18211, activation=\"linear\")\n",
    "    ])\n",
    "\n",
    "    model.compile(loss=mean_rowwise_rmse_loss, \n",
    "                    optimizer=tf.keras.optimizers.Adam(),\n",
    "                    metrics=[custom_mean_rowwise_rmse])\n",
    "\n",
    "    # train for 5 epochs only since model converges rather quickly\n",
    "    history_1 = model.fit(X_train, y_train,\n",
    "                        epochs=5,\n",
    "                        validation_data=(X_val,y_val),\n",
    "                        batch_size=32,\n",
    "                        callbacks=[create_model_checkpoint(\"model_1\", monitor=\"val_custom_mean_rowwise_rmse\")])\n",
    "    \n",
    "    # prints mae & mmrse\n",
    "    calculate_mae_and_mrrmse(model=model, data=X_test, y_true=y_test)"
   ]
  },
  {
   "cell_type": "code",
   "execution_count": 15,
   "metadata": {},
   "outputs": [
    {
     "name": "stdout",
     "output_type": "stream",
     "text": [
      "affinities_CNN_CNN_BindingDB.csv\n",
      "affinities_Morgan_CNN_BindingDB.csv\n",
      "affinities_MPNN_CNN_BindingDB.csv\n",
      "affinities_MPNN_CNN_DAVIS.csv\n",
      "affinities_Transformer_CNN_BindingDB.csv\n"
     ]
    }
   ],
   "source": [
    "# viewing what affinities are available\n",
    "import os\n",
    "\n",
    "# Specify the path to the subfolder\n",
    "subfolder_path = './affinities'\n",
    "\n",
    "# Get a list of all files in the subfolder\n",
    "files = [f for f in os.listdir(subfolder_path) if os.path.isfile(os.path.join(subfolder_path, f))]\n",
    "\n",
    "# Print the list of file names\n",
    "for file in files:\n",
    "    print(file)"
   ]
  },
  {
   "cell_type": "code",
   "execution_count": 18,
   "metadata": {},
   "outputs": [
    {
     "name": "stdout",
     "output_type": "stream",
     "text": [
      "Testing: affinities_CNN_CNN_BindingDB.csv\n",
      "Epoch 1/5\n",
      "14/14 [==============================] - 25s 1s/step - loss: 1.3656 - custom_mean_rowwise_rmse: 1.3648 - val_loss: 0.8336 - val_custom_mean_rowwise_rmse: 0.8319\n",
      "Epoch 2/5\n",
      "14/14 [==============================] - 15s 1s/step - loss: 1.3553 - custom_mean_rowwise_rmse: 1.3644 - val_loss: 0.8285 - val_custom_mean_rowwise_rmse: 0.8265\n",
      "Epoch 3/5\n",
      "14/14 [==============================] - 11s 812ms/step - loss: 1.3530 - custom_mean_rowwise_rmse: 1.3291 - val_loss: 0.8302 - val_custom_mean_rowwise_rmse: 0.8284\n",
      "Epoch 4/5\n",
      "14/14 [==============================] - 15s 1s/step - loss: 1.3534 - custom_mean_rowwise_rmse: 1.3666 - val_loss: 0.8283 - val_custom_mean_rowwise_rmse: 0.8263\n",
      "Epoch 5/5\n",
      "14/14 [==============================] - 15s 1s/step - loss: 1.3529 - custom_mean_rowwise_rmse: 1.3891 - val_loss: 0.8282 - val_custom_mean_rowwise_rmse: 0.8263\n",
      "93/93 [==============================] - 4s 31ms/step\n",
      "Mean Absolute Error (MAE): 0.8210691997408935\n",
      "Mean Rowwise Root Mean Squared Error (MRRMSE): 1.2875516966558984\n",
      "Testing: affinities_Morgan_CNN_BindingDB.csv\n",
      "Epoch 1/5\n",
      "14/14 [==============================] - 21s 1s/step - loss: 1.3655 - custom_mean_rowwise_rmse: 1.3646 - val_loss: 0.8319 - val_custom_mean_rowwise_rmse: 0.8302\n",
      "Epoch 2/5\n",
      "14/14 [==============================] - 28s 2s/step - loss: 1.3552 - custom_mean_rowwise_rmse: 1.3642 - val_loss: 0.8282 - val_custom_mean_rowwise_rmse: 0.8263\n",
      "Epoch 3/5\n",
      "14/14 [==============================] - 22s 2s/step - loss: 1.3536 - custom_mean_rowwise_rmse: 1.3296 - val_loss: 0.8298 - val_custom_mean_rowwise_rmse: 0.8280\n",
      "Epoch 4/5\n",
      "14/14 [==============================] - 22s 2s/step - loss: 1.3534 - custom_mean_rowwise_rmse: 1.3667 - val_loss: 0.8282 - val_custom_mean_rowwise_rmse: 0.8262\n",
      "Epoch 5/5\n",
      "14/14 [==============================] - 16s 1s/step - loss: 1.3528 - custom_mean_rowwise_rmse: 1.3892 - val_loss: 0.8282 - val_custom_mean_rowwise_rmse: 0.8263\n",
      "93/93 [==============================] - 5s 50ms/step\n",
      "Mean Absolute Error (MAE): 0.8207672227442011\n",
      "Mean Rowwise Root Mean Squared Error (MRRMSE): 1.2873470674043066\n",
      "Testing: affinities_MPNN_CNN_BindingDB.csv\n",
      "Epoch 1/5\n",
      "14/14 [==============================] - 21s 1s/step - loss: 1.3649 - custom_mean_rowwise_rmse: 1.3640 - val_loss: 0.8326 - val_custom_mean_rowwise_rmse: 0.8308\n",
      "Epoch 2/5\n",
      "14/14 [==============================] - 19s 1s/step - loss: 1.3552 - custom_mean_rowwise_rmse: 1.3643 - val_loss: 0.8284 - val_custom_mean_rowwise_rmse: 0.8264\n",
      "Epoch 3/5\n",
      "14/14 [==============================] - 14s 992ms/step - loss: 1.3534 - custom_mean_rowwise_rmse: 1.3295 - val_loss: 0.8303 - val_custom_mean_rowwise_rmse: 0.8285\n",
      "Epoch 4/5\n",
      "14/14 [==============================] - 17s 1s/step - loss: 1.3533 - custom_mean_rowwise_rmse: 1.3665 - val_loss: 0.8282 - val_custom_mean_rowwise_rmse: 0.8263\n",
      "Epoch 5/5\n",
      "14/14 [==============================] - 14s 996ms/step - loss: 1.3529 - custom_mean_rowwise_rmse: 1.3893 - val_loss: 0.8282 - val_custom_mean_rowwise_rmse: 0.8263\n",
      "93/93 [==============================] - 4s 40ms/step\n",
      "Mean Absolute Error (MAE): 0.8209535103557689\n",
      "Mean Rowwise Root Mean Squared Error (MRRMSE): 1.2875114412056248\n",
      "Testing: affinities_MPNN_CNN_DAVIS.csv\n",
      "Epoch 1/5\n",
      "14/14 [==============================] - 21s 1s/step - loss: 1.3654 - custom_mean_rowwise_rmse: 1.3646 - val_loss: 0.8316 - val_custom_mean_rowwise_rmse: 0.8298\n",
      "Epoch 2/5\n",
      "14/14 [==============================] - 18s 1s/step - loss: 1.3548 - custom_mean_rowwise_rmse: 1.3639 - val_loss: 0.8284 - val_custom_mean_rowwise_rmse: 0.8264\n",
      "Epoch 3/5\n",
      "14/14 [==============================] - 15s 1s/step - loss: 1.3535 - custom_mean_rowwise_rmse: 1.3295 - val_loss: 0.8298 - val_custom_mean_rowwise_rmse: 0.8280\n",
      "Epoch 4/5\n",
      "14/14 [==============================] - 19s 1s/step - loss: 1.3534 - custom_mean_rowwise_rmse: 1.3666 - val_loss: 0.8282 - val_custom_mean_rowwise_rmse: 0.8262\n",
      "Epoch 5/5\n",
      "14/14 [==============================] - 17s 1s/step - loss: 1.3523 - custom_mean_rowwise_rmse: 1.3887 - val_loss: 0.8282 - val_custom_mean_rowwise_rmse: 0.8262\n",
      "93/93 [==============================] - 4s 38ms/step\n",
      "Mean Absolute Error (MAE): 0.8211661095399948\n",
      "Mean Rowwise Root Mean Squared Error (MRRMSE): 1.2875206825597805\n",
      "Testing: affinities_Transformer_CNN_BindingDB.csv\n",
      "Epoch 1/5\n",
      "14/14 [==============================] - 21s 1s/step - loss: 1.3655 - custom_mean_rowwise_rmse: 1.3646 - val_loss: 0.8303 - val_custom_mean_rowwise_rmse: 0.8285\n",
      "Epoch 2/5\n",
      "14/14 [==============================] - 15s 1s/step - loss: 1.3547 - custom_mean_rowwise_rmse: 1.3638 - val_loss: 0.8283 - val_custom_mean_rowwise_rmse: 0.8264\n",
      "Epoch 3/5\n",
      "14/14 [==============================] - 16s 1s/step - loss: 1.3535 - custom_mean_rowwise_rmse: 1.3295 - val_loss: 0.8300 - val_custom_mean_rowwise_rmse: 0.8283\n",
      "Epoch 4/5\n",
      "14/14 [==============================] - 18s 1s/step - loss: 1.3532 - custom_mean_rowwise_rmse: 1.3663 - val_loss: 0.8282 - val_custom_mean_rowwise_rmse: 0.8263\n",
      "Epoch 5/5\n",
      "14/14 [==============================] - 17s 1s/step - loss: 1.3528 - custom_mean_rowwise_rmse: 1.3892 - val_loss: 0.8281 - val_custom_mean_rowwise_rmse: 0.8262\n",
      "93/93 [==============================] - 4s 47ms/step\n",
      "Mean Absolute Error (MAE): 0.820316523027801\n",
      "Mean Rowwise Root Mean Squared Error (MRRMSE): 1.2874062553510575\n"
     ]
    }
   ],
   "source": [
    "for file in files:\n",
    "    testModel(file)"
   ]
  }
 ],
 "metadata": {
  "kernelspec": {
   "display_name": "base",
   "language": "python",
   "name": "python3"
  },
  "language_info": {
   "codemirror_mode": {
    "name": "ipython",
    "version": 3
   },
   "file_extension": ".py",
   "mimetype": "text/x-python",
   "name": "python",
   "nbconvert_exporter": "python",
   "pygments_lexer": "ipython3",
   "version": "3.11.5"
  }
 },
 "nbformat": 4,
 "nbformat_minor": 2
}
