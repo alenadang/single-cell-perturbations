{
 "cells": [
  {
   "cell_type": "markdown",
   "metadata": {},
   "source": [
    "# model 4 Retrained with Loss: Mean Average Error\n",
    "one-hot encoded cell_type + affinities_Transformer_CNN_BindingDB"
   ]
  },
  {
   "cell_type": "code",
   "execution_count": 1,
   "metadata": {},
   "outputs": [],
   "source": [
    "import polars as pl\n",
    "import numpy as np\n",
    "import pandas as pd\n",
    "\n",
    "import tensorflow as tf\n",
    "\n",
    "import matplotlib.pyplot as plt\n",
    "import seaborn as sns\n",
    "\n",
    "from sklearn.model_selection import train_test_split\n",
    "from sklearn.preprocessing import OneHotEncoder\n",
    "\n",
    "# import from the auxFunctions.py file\n",
    "from auxFunctions import calculate_mae_and_mrrmse, mean_rowwise_rmse_loss, custom_mean_rowwise_rmse, create_model_checkpoint, plot_training_history"
   ]
  },
  {
   "cell_type": "markdown",
   "metadata": {},
   "source": [
    "## pre-process data\n",
    "one-hot encode cell type\n",
    "<br>map sm_name to affinities_Transformer_CNN_BindingDB.csv"
   ]
  },
  {
   "cell_type": "code",
   "execution_count": 26,
   "metadata": {},
   "outputs": [],
   "source": [
    "de_train = pl.scan_parquet('./kaggledata/de_train.parquet')\n",
    "de_train_df = de_train.collect().to_pandas()\n",
    "\n",
    "# test provided by kaggle --> upload predictions to kaggle to get the score\n",
    "id_map = pd.read_csv('./kaggledata/id_map.csv')\n",
    "\n",
    "affinities = pd.read_csv('affinities_Transformer_CNN_BindingDB.csv', index_col=0)"
   ]
  },
  {
   "cell_type": "markdown",
   "metadata": {},
   "source": [
    "train dataset provided by kaggle\n",
    "- will be split into train/test/validation for internal testing before model is trained on the entire train and used to predict on the test in id_map"
   ]
  },
  {
   "cell_type": "code",
   "execution_count": 3,
   "metadata": {},
   "outputs": [],
   "source": [
    "def extractAffinities(sm_names, affinities):\n",
    "    \"\"\"\n",
    "    Function to extract affinities from the affinities dataframe\n",
    "\n",
    "    Parameters:\n",
    "    - sm_names: List/Array of sm_names\n",
    "    - affinities: Stored affinities predicted using DeepPurpose\n",
    "\n",
    "    Returns:\n",
    "    - Affinities as a numpy array\n",
    "    \"\"\"\n",
    "    encoded_affinities = []\n",
    "    for name in sm_names:\n",
    "        filtered = affinities[affinities['sm_name'] == name]\n",
    "        sm_affinities = filtered.iloc[:, 2:].values[0]\n",
    "        encoded_affinities.append(sm_affinities)\n",
    "\n",
    "    np_encoded_affinities = np.array(encoded_affinities)\n",
    "\n",
    "    return np_encoded_affinities"
   ]
  },
  {
   "cell_type": "code",
   "execution_count": 27,
   "metadata": {},
   "outputs": [],
   "source": [
    "# one-hot encode cell_type\n",
    "cell_type = de_train_df['cell_type'].to_numpy().reshape(-1, 1)\n",
    "encoder = OneHotEncoder()\n",
    "encoder.fit(cell_type)\n",
    "# of type scipy.sparse._csr.csr_matrix\n",
    "encoded_cell_type = encoder.transform(cell_type)\n",
    "\n",
    "# map sm_name to affinities\n",
    "sm_name = de_train_df['sm_name']\n",
    "\n",
    "# has shape (614, 12766), of type numpy.ndarray\n",
    "np_encoded_affinities = extractAffinities(sm_name, affinities)\n",
    "\n",
    "# concatenate encoded_cell_type and np_encoded_affinities\n",
    "# final shape (614, 12772)\n",
    "encoded_features = np.hstack((encoded_cell_type.toarray(), np_encoded_affinities))\n",
    "\n",
    "# wanted output\n",
    "genes_lfc = de_train_df.drop(columns=['cell_type', 'sm_name', 'sm_lincs_id', 'SMILES', 'control'])"
   ]
  },
  {
   "cell_type": "code",
   "execution_count": 28,
   "metadata": {},
   "outputs": [],
   "source": [
    "# repeat for kaggle test set\n",
    "kaggle_cell_type = id_map['cell_type'].to_numpy().reshape(-1, 1)\n",
    "encoded_kaggle_cell_type = encoder.transform(kaggle_cell_type)\n",
    "\n",
    "kaggle_sm_name = id_map['sm_name']\n",
    "encoded_kaggle_affinities = extractAffinities(kaggle_sm_name, affinities)\n",
    "\n",
    "# final shape (255, 12772)\n",
    "encoded_kaggle_features = np.hstack((encoded_kaggle_cell_type.toarray(), encoded_kaggle_affinities))"
   ]
  },
  {
   "cell_type": "code",
   "execution_count": 29,
   "metadata": {},
   "outputs": [],
   "source": [
    "# Split the data into 70% training, 15% validation, and 15% testing\n",
    "X_train, X_temp, y_train, y_temp = train_test_split(encoded_features, genes_lfc.values, test_size=0.3, shuffle=False)\n",
    "X_val, X_test, y_val, y_test = train_test_split(X_temp, y_temp, test_size=0.5, shuffle=False)\n",
    "\n",
    "# used for final training before predicting on kaggle_test\n",
    "full_features = encoded_features\n",
    "full_labels = genes_lfc.values"
   ]
  },
  {
   "cell_type": "markdown",
   "metadata": {},
   "source": [
    "## model training"
   ]
  },
  {
   "cell_type": "code",
   "execution_count": 7,
   "metadata": {},
   "outputs": [],
   "source": [
    "from tensorflow.keras.layers import Dense, Dropout, BatchNormalization, Activation\n",
    "from tensorflow.keras.models import Sequential"
   ]
  },
  {
   "cell_type": "code",
   "execution_count": 15,
   "metadata": {},
   "outputs": [
    {
     "name": "stdout",
     "output_type": "stream",
     "text": [
      "Epoch 1/10\n",
      "14/14 [==============================] - 91s 6s/step - loss: 325.7216 - custom_mean_rowwise_rmse: 311.9675 - val_loss: 0.8474 - val_custom_mean_rowwise_rmse: 0.8459\n",
      "Epoch 2/10\n",
      "14/14 [==============================] - 69s 4s/step - loss: 1.6685 - custom_mean_rowwise_rmse: 1.6655 - val_loss: 0.8444 - val_custom_mean_rowwise_rmse: 0.8429\n",
      "Epoch 3/10\n",
      "14/14 [==============================] - 64s 5s/step - loss: 1.6314 - custom_mean_rowwise_rmse: 1.5958 - val_loss: 0.8379 - val_custom_mean_rowwise_rmse: 0.8363\n",
      "Epoch 4/10\n",
      "14/14 [==============================] - 55s 4s/step - loss: 1.3665 - custom_mean_rowwise_rmse: 1.3800 - val_loss: 0.8328 - val_custom_mean_rowwise_rmse: 0.8311\n",
      "Epoch 5/10\n",
      "14/14 [==============================] - 40s 3s/step - loss: 1.3658 - custom_mean_rowwise_rmse: 1.4016 - val_loss: 0.8297 - val_custom_mean_rowwise_rmse: 0.8279\n",
      "Epoch 6/10\n",
      "14/14 [==============================] - 45s 3s/step - loss: 1.3671 - custom_mean_rowwise_rmse: 1.3432 - val_loss: 0.8283 - val_custom_mean_rowwise_rmse: 0.8265\n",
      "Epoch 7/10\n",
      "14/14 [==============================] - 54s 4s/step - loss: 1.3780 - custom_mean_rowwise_rmse: 1.3579 - val_loss: 0.8279 - val_custom_mean_rowwise_rmse: 0.8260\n",
      "Epoch 8/10\n",
      "14/14 [==============================] - 52s 4s/step - loss: 1.3681 - custom_mean_rowwise_rmse: 1.3820 - val_loss: 0.8277 - val_custom_mean_rowwise_rmse: 0.8258\n",
      "Epoch 9/10\n",
      "14/14 [==============================] - 52s 4s/step - loss: 1.3669 - custom_mean_rowwise_rmse: 1.3403 - val_loss: 0.8276 - val_custom_mean_rowwise_rmse: 0.8257\n",
      "Epoch 10/10\n",
      "14/14 [==============================] - 49s 3s/step - loss: 1.3588 - custom_mean_rowwise_rmse: 1.4064 - val_loss: 0.8276 - val_custom_mean_rowwise_rmse: 0.8256\n"
     ]
    }
   ],
   "source": [
    "tf.random.set_seed(42)\n",
    "\n",
    "model_2 = Sequential([\n",
    "    Dropout(0.2),\n",
    "    Dense(6000, activation=\"relu\"),\n",
    "    Dropout(0.2),\n",
    "    Dense(3000, activation=\"relu\"),\n",
    "    Dense(18211, activation=\"linear\")\n",
    "])\n",
    "\n",
    "model_2.compile(loss=mean_rowwise_rmse_loss, \n",
    "                optimizer=tf.keras.optimizers.Adam(learning_rate=0.01),\n",
    "                metrics=[custom_mean_rowwise_rmse])\n",
    "\n",
    "history_2 = model_2.fit(X_train, y_train,\n",
    "                       epochs=10,\n",
    "                       validation_data=(X_val,y_val),\n",
    "                       batch_size=32,\n",
    "                       callbacks=[create_model_checkpoint(\"model_2\", monitor=\"val_custom_mean_rowwise_rmse\")])"
   ]
  },
  {
   "cell_type": "code",
   "execution_count": 16,
   "metadata": {},
   "outputs": [
    {
     "name": "stdout",
     "output_type": "stream",
     "text": [
      "Epoch 1/10\n",
      "14/14 [==============================] - 40s 3s/step - loss: 280.2878 - custom_mean_rowwise_rmse: 288.7963 - val_loss: 0.5612 - val_custom_mean_rowwise_rmse: 0.8451\n",
      "Epoch 2/10\n",
      "14/14 [==============================] - 37s 3s/step - loss: 0.9332 - custom_mean_rowwise_rmse: 1.4086 - val_loss: 0.5572 - val_custom_mean_rowwise_rmse: 0.8409\n",
      "Epoch 3/10\n",
      "14/14 [==============================] - 37s 3s/step - loss: 0.9372 - custom_mean_rowwise_rmse: 1.3757 - val_loss: 0.5523 - val_custom_mean_rowwise_rmse: 0.8352\n",
      "Epoch 4/10\n",
      "14/14 [==============================] - 38s 3s/step - loss: 0.8950 - custom_mean_rowwise_rmse: 1.3728 - val_loss: 0.5501 - val_custom_mean_rowwise_rmse: 0.8317\n",
      "Epoch 5/10\n",
      "14/14 [==============================] - 36s 3s/step - loss: 0.8993 - custom_mean_rowwise_rmse: 1.3980 - val_loss: 0.5493 - val_custom_mean_rowwise_rmse: 0.8300\n",
      "Epoch 6/10\n",
      "14/14 [==============================] - 39s 3s/step - loss: 0.8933 - custom_mean_rowwise_rmse: 1.3317 - val_loss: 0.5492 - val_custom_mean_rowwise_rmse: 0.8291\n",
      "Epoch 7/10\n",
      "14/14 [==============================] - 41s 3s/step - loss: 0.9124 - custom_mean_rowwise_rmse: 1.3540 - val_loss: 0.5492 - val_custom_mean_rowwise_rmse: 0.8289\n",
      "Epoch 8/10\n",
      "14/14 [==============================] - 46s 3s/step - loss: 0.9296 - custom_mean_rowwise_rmse: 1.4048 - val_loss: 0.5492 - val_custom_mean_rowwise_rmse: 0.8287\n",
      "Epoch 9/10\n",
      "14/14 [==============================] - 43s 3s/step - loss: 0.8931 - custom_mean_rowwise_rmse: 1.3281 - val_loss: 0.5492 - val_custom_mean_rowwise_rmse: 0.8287\n",
      "Epoch 10/10\n",
      "14/14 [==============================] - 34s 2s/step - loss: 0.8932 - custom_mean_rowwise_rmse: 1.3980 - val_loss: 0.5492 - val_custom_mean_rowwise_rmse: 0.8284\n"
     ]
    }
   ],
   "source": [
    "# model 3\n",
    "tf.random.set_seed(42)\n",
    "\n",
    "model_2 = Sequential([\n",
    "    Dropout(0.2),\n",
    "    Dense(6000, activation=\"relu\"),\n",
    "    Dropout(0.2),\n",
    "    Dense(3000, activation=\"relu\"),\n",
    "    Dense(18211, activation=\"linear\")\n",
    "])\n",
    "\n",
    "model_2.compile(loss=\"mae\", \n",
    "                optimizer=tf.keras.optimizers.Adam(learning_rate=0.01),\n",
    "                metrics=[custom_mean_rowwise_rmse])\n",
    "\n",
    "history_2 = model_2.fit(X_train, y_train,\n",
    "                       epochs=10,\n",
    "                       validation_data=(X_val,y_val),\n",
    "                       batch_size=32,\n",
    "                       callbacks=[create_model_checkpoint(\"model_2\", monitor=\"val_custom_mean_rowwise_rmse\")])"
   ]
  },
  {
   "cell_type": "markdown",
   "metadata": {},
   "source": [
    "### evaluate model"
   ]
  },
  {
   "cell_type": "code",
   "execution_count": 17,
   "metadata": {},
   "outputs": [
    {
     "name": "stdout",
     "output_type": "stream",
     "text": [
      "93/93 [==============================] - 6s 64ms/step\n",
      "Mean Absolute Error (MAE): 0.8157590704500961\n",
      "Mean Rowwise Root Mean Squared Error (MRRMSE): 1.289384422619531\n"
     ]
    }
   ],
   "source": [
    "calculate_mae_and_mrrmse(model=model_2, data=X_test, y_true=y_test)"
   ]
  },
  {
   "cell_type": "code",
   "execution_count": 21,
   "metadata": {},
   "outputs": [
    {
     "data": {
      "image/png": "[encoded data removed]",
      "text/plain": [
       "<Figure size 1200x600 with 2 Axes>"
      ]
     },
     "metadata": {},
     "output_type": "display_data"
    }
   ],
   "source": [
    "plot_training_history(history_2, metrics=[\"custom_mean_rowwise_rmse\"])"
   ]
  },
  {
   "cell_type": "code",
   "execution_count": 23,
   "metadata": {},
   "outputs": [
    {
     "name": "stdout",
     "output_type": "stream",
     "text": [
      "Epoch 1/10\n",
      "20/20 [==============================] - 56s 3s/step - loss: 171.4532 - custom_mean_rowwise_rmse: 176.3372\n",
      "Epoch 2/10\n",
      "20/20 [==============================] - 46s 2s/step - loss: 0.8895 - custom_mean_rowwise_rmse: 1.3128\n",
      "Epoch 3/10\n",
      "20/20 [==============================] - 47s 2s/step - loss: 0.8628 - custom_mean_rowwise_rmse: 1.2765\n",
      "Epoch 4/10\n",
      "20/20 [==============================] - 49s 2s/step - loss: 0.8704 - custom_mean_rowwise_rmse: 1.2840\n",
      "Epoch 5/10\n",
      "20/20 [==============================] - 47s 2s/step - loss: 0.8599 - custom_mean_rowwise_rmse: 1.3115\n",
      "Epoch 6/10\n",
      "20/20 [==============================] - 42s 2s/step - loss: 0.8505 - custom_mean_rowwise_rmse: 1.2920\n",
      "Epoch 7/10\n",
      "20/20 [==============================] - 47s 2s/step - loss: 0.8384 - custom_mean_rowwise_rmse: 1.2471\n",
      "Epoch 8/10\n",
      "20/20 [==============================] - 40s 2s/step - loss: 1.4436 - custom_mean_rowwise_rmse: 1.9083\n",
      "Epoch 9/10\n",
      "20/20 [==============================] - 41s 2s/step - loss: 0.8449 - custom_mean_rowwise_rmse: 1.2968\n",
      "Epoch 10/10\n",
      "20/20 [==============================] - 40s 2s/step - loss: 0.9345 - custom_mean_rowwise_rmse: 1.3396\n"
     ]
    }
   ],
   "source": [
    "tf.random.set_seed(42)\n",
    "\n",
    "model_3_full = Sequential([\n",
    "    Dropout(0.2),\n",
    "    Dense(6000, activation=\"relu\"),\n",
    "    Dropout(0.2),\n",
    "    Dense(3000, activation=\"relu\"),\n",
    "    Dense(18211, activation=\"linear\")\n",
    "])\n",
    "\n",
    "model_3_full.compile(loss=\"mae\", \n",
    "                optimizer=tf.keras.optimizers.Adam(0.01),\n",
    "                metrics=[custom_mean_rowwise_rmse])\n",
    "\n",
    "history_3_full = model_3_full.fit(full_features, full_labels,\n",
    "                       epochs=10,\n",
    "                       batch_size=32)"
   ]
  },
  {
   "cell_type": "code",
   "execution_count": 24,
   "metadata": {},
   "outputs": [
    {
     "name": "stdout",
     "output_type": "stream",
     "text": [
      "255/255 [==============================] - 19s 74ms/step\n"
     ]
    }
   ],
   "source": [
    "kaggle_predictions = model_3_full.predict(encoded_kaggle_features, batch_size=1)"
   ]
  },
  {
   "cell_type": "code",
   "execution_count": 25,
   "metadata": {},
   "outputs": [],
   "source": [
    "sample_submission = pd.read_csv('./kaggledata/sample_submission.csv')\n",
    "sample_submission.iloc[:,1:] = kaggle_predictions\n",
    "\n",
    "sample_submission.to_csv('submission_model_3.csv', index=False)"
   ]
  },
  {
   "cell_type": "markdown",
   "metadata": {},
   "source": [
    "## model elite"
   ]
  },
  {
   "cell_type": "code",
   "execution_count": 31,
   "metadata": {},
   "outputs": [
    {
     "name": "stdout",
     "output_type": "stream",
     "text": [
      "Epoch 1/3\n",
      "20/20 [==============================] - 144s 6s/step - loss: 34283.1289 - custom_mean_rowwise_rmse: 33132.8672\n",
      "Epoch 2/3\n",
      "20/20 [==============================] - 110s 6s/step - loss: 0.8345 - custom_mean_rowwise_rmse: 1.2539\n",
      "Epoch 3/3\n",
      "20/20 [==============================] - 106s 5s/step - loss: 0.8315 - custom_mean_rowwise_rmse: 1.2438\n"
     ]
    }
   ],
   "source": [
    "tf.random.set_seed(42)\n",
    "\n",
    "model_elite_full = Sequential([\n",
    "    Dense(6000, activation=\"relu\"),\n",
    "    Dense(12000, activation=\"relu\"),\n",
    "    Dense(10000, activation=\"relu\"),\n",
    "    Dense(18211, activation=\"linear\")\n",
    "])\n",
    "\n",
    "model_elite_full.compile(loss=\"mae\", \n",
    "                optimizer=tf.keras.optimizers.Adam(0.01),\n",
    "                metrics=[custom_mean_rowwise_rmse])\n",
    "\n",
    "history_elite_full = model_elite_full.fit(full_features, full_labels,\n",
    "                       epochs=3,\n",
    "                       batch_size=32)"
   ]
  },
  {
   "cell_type": "code",
   "execution_count": 32,
   "metadata": {},
   "outputs": [
    {
     "name": "stdout",
     "output_type": "stream",
     "text": [
      "255/255 [==============================] - 56s 218ms/step\n"
     ]
    }
   ],
   "source": [
    "kaggle_predictions = model_elite_full.predict(encoded_kaggle_features, batch_size=1)\n",
    "sample_submission = pd.read_csv('./kaggledata/sample_submission.csv')\n",
    "sample_submission.iloc[:,1:] = kaggle_predictions\n",
    "\n",
    "sample_submission.to_csv('submission_model_elite.csv', index=False)"
   ]
  }
 ],
 "metadata": {
  "kernelspec": {
   "display_name": "base",
   "language": "python",
   "name": "python3"
  },
  "language_info": {
   "codemirror_mode": {
    "name": "ipython",
    "version": 3
   },
   "file_extension": ".py",
   "mimetype": "text/x-python",
   "name": "python",
   "nbconvert_exporter": "python",
   "pygments_lexer": "ipython3",
   "version": "3.11.5"
  }
 },
 "nbformat": 4,
 "nbformat_minor": 2
}
