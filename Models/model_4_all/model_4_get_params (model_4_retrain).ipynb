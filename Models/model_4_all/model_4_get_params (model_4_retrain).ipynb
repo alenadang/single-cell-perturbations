{
 "cells": [
  {
   "cell_type": "code",
   "execution_count": 1,
   "metadata": {},
   "outputs": [],
   "source": [
    "import polars as pl\n",
    "import numpy as np\n",
    "import pandas as pd\n",
    "\n",
    "import tensorflow as tf\n",
    "\n",
    "import matplotlib.pyplot as plt\n",
    "import seaborn as sns\n",
    "\n",
    "from sklearn.model_selection import train_test_split\n",
    "from sklearn.preprocessing import OneHotEncoder\n",
    "\n",
    "from keras.models import load_model\n",
    "\n",
    "# import from the auxFunctions.py file\n",
    "from auxFunctions import calculate_mae_and_mrrmse, mean_rowwise_rmse_loss, custom_mean_rowwise_rmse, create_model_checkpoint, plot_training_history\n"
   ]
  },
  {
   "cell_type": "code",
   "execution_count": 18,
   "metadata": {},
   "outputs": [],
   "source": [
    "de_train = pl.scan_parquet('./de_train.parquet')\n",
    "de_train_df = de_train.collect().to_pandas()\n",
    "\n",
    "# test provided by kaggle --> upload predictions to kaggle to get the score\n",
    "id_map = pd.read_csv('./id_map.csv')\n",
    "\n",
    "affinities = pd.read_csv('affinities_Transformer_CNN_BindingDB.csv', index_col=0)"
   ]
  },
  {
   "cell_type": "code",
   "execution_count": 4,
   "metadata": {},
   "outputs": [],
   "source": [
    "def extractAffinities(sm_names, affinities):\n",
    "    \"\"\"\n",
    "    Function to extract affinities from the affinities dataframe\n",
    "\n",
    "    Parameters:\n",
    "    - sm_names: List/Array of sm_names\n",
    "    - affinities: Stored affinities predicted using DeepPurpose\n",
    "\n",
    "    Returns:\n",
    "    - Affinities as a numpy array\n",
    "    \"\"\"\n",
    "    encoded_affinities = []\n",
    "    for name in sm_names:\n",
    "        filtered = affinities[affinities['sm_name'] == name]\n",
    "        sm_affinities = filtered.iloc[:, 2:].values[0]\n",
    "        encoded_affinities.append(sm_affinities)\n",
    "\n",
    "    np_encoded_affinities = np.array(encoded_affinities)\n",
    "\n",
    "    return np_encoded_affinities"
   ]
  },
  {
   "cell_type": "code",
   "execution_count": 19,
   "metadata": {},
   "outputs": [],
   "source": [
    "# one-hot encode cell_type\n",
    "cell_type = de_train_df['cell_type'].to_numpy().reshape(-1, 1)\n",
    "encoder = OneHotEncoder()\n",
    "encoder.fit(cell_type)\n",
    "# of type scipy.sparse._csr.csr_matrix\n",
    "encoded_cell_type = encoder.transform(cell_type)\n",
    "\n",
    "# map sm_name to affinities\n",
    "sm_name = de_train_df['sm_name']\n",
    "\n",
    "# has shape (614, 12766), of type numpy.ndarray\n",
    "np_encoded_affinities = extractAffinities(sm_name, affinities)\n",
    "\n",
    "# concatenate encoded_cell_type and np_encoded_affinities\n",
    "# final shape (614, 12772)\n",
    "encoded_features = np.hstack((encoded_cell_type.toarray(), np_encoded_affinities))\n",
    "\n",
    "# wanted output\n",
    "genes_lfc = de_train_df.drop(columns=['cell_type', 'sm_name', 'sm_lincs_id', 'SMILES', 'control'])"
   ]
  },
  {
   "cell_type": "code",
   "execution_count": 20,
   "metadata": {},
   "outputs": [],
   "source": [
    "# repeat for kaggle test set\n",
    "kaggle_cell_type = id_map['cell_type'].to_numpy().reshape(-1, 1)\n",
    "encoded_kaggle_cell_type = encoder.transform(kaggle_cell_type)\n",
    "\n",
    "kaggle_sm_name = id_map['sm_name']\n",
    "encoded_kaggle_affinities = extractAffinities(kaggle_sm_name, affinities)\n",
    "\n",
    "# final shape (255, 12772)\n",
    "encoded_kaggle_features = np.hstack((encoded_kaggle_cell_type.toarray(), encoded_kaggle_affinities))"
   ]
  },
  {
   "cell_type": "code",
   "execution_count": 22,
   "metadata": {},
   "outputs": [
    {
     "name": "stdout",
     "output_type": "stream",
     "text": [
      "WARNING:tensorflow:Compiled the loaded model, but the compiled metrics have yet to be built. `model.compile_metrics` will be empty until you train or evaluate the model.\n"
     ]
    }
   ],
   "source": [
    "model = tf.keras.models.load_model('model_4',custom_objects={\"mean_rowwise_rmse_loss\": \"root_mean_squared_error\" })"
   ]
  },
  {
   "cell_type": "code",
   "execution_count": 23,
   "metadata": {},
   "outputs": [
    {
     "name": "stdout",
     "output_type": "stream",
     "text": [
      "Model: \"sequential_1\"\n",
      "_________________________________________________________________\n",
      " Layer (type)                Output Shape              Param #   \n",
      "=================================================================\n",
      " dense_6 (Dense)             (None, 6000)              76638000  \n",
      "                                                                 \n",
      " dense_7 (Dense)             (None, 12000)             72012000  \n",
      "                                                                 \n",
      " dense_8 (Dense)             (None, 10000)             120010000 \n",
      "                                                                 \n",
      " dense_9 (Dense)             (None, 18211)             182128211 \n",
      "                                                                 \n",
      "=================================================================\n",
      "Total params: 450788211 (1.68 GB)\n",
      "Trainable params: 450788211 (1.68 GB)\n",
      "Non-trainable params: 0 (0.00 Byte)\n",
      "_________________________________________________________________\n"
     ]
    }
   ],
   "source": [
    "model.summary()"
   ]
  },
  {
   "cell_type": "code",
   "execution_count": 32,
   "metadata": {},
   "outputs": [
    {
     "data": {
      "text/plain": [
       "{'name': 'dense_9',\n",
       " 'trainable': True,\n",
       " 'dtype': 'float32',\n",
       " 'units': 18211,\n",
       " 'activation': 'linear',\n",
       " 'use_bias': True,\n",
       " 'kernel_initializer': {'module': 'keras.initializers',\n",
       "  'class_name': 'GlorotUniform',\n",
       "  'config': {'seed': None},\n",
       "  'registered_name': None},\n",
       " 'bias_initializer': {'module': 'keras.initializers',\n",
       "  'class_name': 'Zeros',\n",
       "  'config': {},\n",
       "  'registered_name': None},\n",
       " 'kernel_regularizer': None,\n",
       " 'bias_regularizer': None,\n",
       " 'activity_regularizer': None,\n",
       " 'kernel_constraint': None,\n",
       " 'bias_constraint': None}"
      ]
     },
     "execution_count": 32,
     "metadata": {},
     "output_type": "execute_result"
    }
   ],
   "source": [
    "model.layers[3].get_config()"
   ]
  }
 ],
 "metadata": {
  "kernelspec": {
   "display_name": "Python 3 (ipykernel)",
   "language": "python",
   "name": "python3"
  },
  "language_info": {
   "codemirror_mode": {
    "name": "ipython",
    "version": 3
   },
   "file_extension": ".py",
   "mimetype": "text/x-python",
   "name": "python",
   "nbconvert_exporter": "python",
   "pygments_lexer": "ipython3",
   "version": "3.11.5"
  }
 },
 "nbformat": 4,
 "nbformat_minor": 4
}
